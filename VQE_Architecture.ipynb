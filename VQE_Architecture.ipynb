{
 "cells": [
  {
   "cell_type": "markdown",
   "metadata": {},
   "source": [
    "# Variational Quantum Eigensolver"
   ]
  },
  {
   "cell_type": "markdown",
   "metadata": {},
   "source": [
    "The aim of the task is to find the lowest eigenvalue of the following unitary matrix\n",
    "\n",
    "$$\n",
    "U = \n",
    "\\begin{bmatrix}\n",
    "1 & 0 & 0 & 0 \\\\\n",
    "0 & 0 & -1 & 0 \\\\\n",
    "0 & -1 & 0 & 0 \\\\\n",
    "0 & 0 & 0 & 1\n",
    "\\end{bmatrix}\n",
    "$$\n",
    "\n",
    "using VQE-like circuits. In order to do so, one must find a decomposition of the unitary $U$ in terms of Pauli operators $\\{\\mathbb{1}, X, Y, Z\\}$:\n",
    "\n",
    "$$\n",
    "\\mathbb{1} =\n",
    "\\begin{bmatrix}\n",
    "1 & 0  \\\\\n",
    "0 & 1\n",
    "\\end{bmatrix}\\quad\n",
    "X =\n",
    "\\begin{bmatrix}\n",
    "0 & 1 \\\\\n",
    "1& 0\n",
    "\\end{bmatrix}\\quad\n",
    "Y =\n",
    "\\begin{bmatrix}\n",
    "0 & -i \\\\\n",
    "i & 0\n",
    "\\end{bmatrix}\\quad\n",
    "z =\n",
    "\\begin{bmatrix}\n",
    "1 & 0 \\\\\n",
    "0 & -1\n",
    "\\end{bmatrix}\n",
    "$$\n",
    "\n",
    "in order to be implemented on a quantum computer. In particular, since we are dealing with a $4\\times4$ matrix, two qubits are needed, thus the desired decomposition will be made of *tensor products* of two Pauli operators (e.g. $X_1 \\otimes Y_2$, where the subscript denotes the system on which the operator acts).\n",
    "\n",
    "### Decomposition in terms of Pauli operators\n",
    "\n",
    "Given that:\n",
    "\n",
    "$$\n",
    "X_1\\otimes X_2 = \n",
    "\\begin{bmatrix} 0 & 1\\\\ 1 & 0 \\end{bmatrix} \\otimes \\begin{bmatrix} 0 & 1\\\\ 1 & 0 \\end{bmatrix} =\n",
    "\\begin{bmatrix} 0 \\cdot \\begin{bmatrix} 0 & 1\\\\ 1 & 0 \\end{bmatrix} & 1 \\cdot \\begin{bmatrix} 0 & 1\\\\ 1 & 0 \\end{bmatrix}\\\\ 1 \\cdot \\begin{bmatrix} 0 & 1\\\\ 1 & 0 \\end{bmatrix} & 0 \\cdot \\begin{bmatrix} 0 & 1\\\\ 1 & 0 \\end{bmatrix} \\end{bmatrix} = \\begin{bmatrix} 0 &  0 & 0 & 1 \\\\ 0 & 0 & 1 & 0 \\\\ 0 & 1 & 0 & 0 \\\\ 1 & 0 & 0 & 0 \\end{bmatrix}\n",
    "$$\n",
    "\n",
    "$$\n",
    "Y_1\\otimes Y_2 = \n",
    "\\begin{bmatrix} 0 & -i\\\\ i & 0 \\end{bmatrix} \\otimes \\begin{bmatrix} 0 & -i\\\\ i & 0 \\end{bmatrix} = \\begin{bmatrix} 0 &  0 & 0 & -1 \\\\ 0 & 0 & 1 & 0 \\\\ 0 & 1 & 0 & 0 \\\\ -1 & 0 & 0 & 0 \\end{bmatrix}\n",
    "$$\n",
    "\n",
    "$$\n",
    "Z_1\\otimes Z_2 = \n",
    "\\begin{bmatrix} 1 & 0\\\\ 0 & 1 \\end{bmatrix} \\otimes \\begin{bmatrix} 1 & 0\\\\ 0 & 1 \\end{bmatrix} = \\begin{bmatrix} 1 &  0 & 0 & 0 \\\\ 0 & -1 & 0 & 0 \\\\ 0 & 0 & -1 & 0 \\\\ 0 & 0 & 0 & 1 \\end{bmatrix}\n",
    "$$\n",
    "\n",
    "$$\n",
    "\\mathbb{1}_{4\\times4} = \\begin{bmatrix} 1 &  0 & 0 & 0 \\\\ 0 & 1 & 0 & 0 \\\\ 0 & 0 & 1 & 0 \\\\ 0 & 0 & 0 & 1 \\end{bmatrix}\n",
    "$$\n",
    "\n",
    "by inspection, it can be seen that \n",
    "\n",
    "$$\n",
    "U = \\frac{1}{2}(I_1\\otimes I_2+Z_1\\otimes Z_2)-\\frac{1}{2}(X_1 \\otimes X_2+Y_1\\otimes Y_2)\n",
    "$$\n",
    "\n",
    "that is, we found the desired decomposition of matrix $U$ in terms of Pauli operators. Since in VQE algorithms one usually deals with the minimization of the energy of a system, from now on we call the unitary matrix *Hamiltonian* $U \\rightarrow \\mathcal{H}$ of the system, and *energy* its mean value when evaluated on a given state $|\\psi(\\theta)\\rangle$, that is $E(\\theta) = \\langle \\mathcal{H} \\rangle_{\\theta}=\\langle \\psi(\\theta) | \\mathcal{H}|\\psi(\\theta)\\rangle$.  \n",
    "Notice that, $|\\psi(\\theta)$ is an *eigenvector* of the unitary $\\mathcal{H}$, with the energy $E(\\theta)$ being the corresponding *eigenvalue*. Our task is then to find the lowest eigenvalue of $\\mathcal{H}$. \n",
    "\n",
    "### Variational Quantum Eigensolver\n",
    "\n",
    "The idea behind VQE, is to use a quantum computer to evaluate the mean value of the *Hamiltonian* on a trial state $|\\psi(\\theta)\\rangle$ parametrized by $\\theta$, and then slowly change this parameter in order to find lower and lower values for the energy $E(\\theta)$.  \n",
    "\n",
    "Given that $\\langle \\mathbb{1} \\rangle = 1$, it holds that (from now on we omit the $\\otimes$ symbol for readibility)\n",
    "\n",
    "$$\n",
    "\\langle \\mathcal{H} \\rangle = \\frac{1}{2}(1 + \\langle Z_1 Z_2\\rangle)-\\frac{1}{2}(\\langle X_1 X_2\\rangle+\\langle Y_1 Y_2\\rangle) \\\\\n",
    "$$  \n",
    "\n",
    "\n",
    "which means we have to use some quantum circuits to estimate the mean value of the operators $X_1 X_2,\\ Y_1 Y_2,\\ Z_1 Z_2$, and then combine them back toether to find the eigenvalue $E = \\langle \\mathcal{H} \\rangle $.  \n",
    "\n",
    "Measurements in quantum computers generally happens along the $Z$ basis (known as *computational basis*), which means that we can only measure eigevectors and eigenvalues of $Z$. In order to measure other different observables, we need to change basis, and this can be done introducing some gate before the measurement happens. \n",
    "\n",
    "### Change of basis\n",
    "\n",
    "Noticing that:\n",
    "$$\n",
    "X=HZH\\quad Y=(HS^\\dagger)^\\dagger Z(HS^\\dagger)\n",
    "$$\n",
    "we can measure along the X basis by introducing an Hadamard $H$ gate before the measurement. Same happens with $Y$, by using a combination of Hadamard and Phase gates $HS^\\dagger$.  \n",
    "\n",
    "However, in our case we wish to measure two-qubits observables. \n",
    "\n",
    "#### Observable $Z_1 Z_2$\n",
    "  \n",
    "The operator $Z_1 Z_2$ acts like: \n",
    "$$\n",
    "Z_1 Z_2|00\\rangle = +1 |00\\rangle \\\\\n",
    "Z_1 Z_2|11\\rangle = +1 |11\\rangle \\\\\n",
    "Z_1 Z_2|01\\rangle = -1 |01\\rangle \\\\\n",
    "Z_1 Z_2|10\\rangle = 1 |10\\rangle \\\\\n",
    "$$\n",
    "that is, it checks whether the two qubits are in the same state (both $0$ or both $1$), in which case it has eigenvalue $1$, otherwise it has eigenvalue $-1$. A similar action can be implemented using a CNOT, in fact this gates loads on the second qubit the binary sum of the two qubits $\\text{CNOT}|q_1\\rangle|q_2\\rangle=|q_1\\rangle|q_1\\oplus q_2\\rangle$.   \n",
    "Infact, if\n",
    "* $q_1 = q_2$ (qubits are in the same state), it holds that $|q_1\\oplus q_2\\rangle = |0\\rangle$ and a measurement of the second qubit in the computational basis ($Z$ basis) yields result $+1$, \n",
    "* $q_1\\neq q_2$, then $|q_1\\oplus q_2\\rangle=|1\\rangle$ and a measurement would yield result $-1$, as desired.\n",
    "\n",
    "> Remember that, given a general qubit state $|\\psi\\rangle=\\alpha |0\\rangle + \\beta |1\\rangle$, it holds $\\langle Z \\rangle = \\langle \\psi | Z | \\psi \\rangle = |\\alpha|^2-|\\beta|^2$.\n",
    "\n",
    "In this way, we can measure the observable $Z_1 Z_2$ by introducing a CNOT gate and then measuring the second qubit in the usual $Z$ basis, as reported in the following circuit:"
   ]
  },
  {
   "cell_type": "code",
   "execution_count": 1,
   "metadata": {},
   "outputs": [
    {
     "name": "stdout",
     "output_type": "stream",
     "text": [
      "Measurement in the ZZ basis\n"
     ]
    },
    {
     "data": {
      "image/png": "[encoded data removed]",
      "text/plain": [
       "<Figure size 321.232x204.68 with 1 Axes>"
      ]
     },
     "execution_count": 1,
     "metadata": {},
     "output_type": "execute_result"
    }
   ],
   "source": [
    "import qiskit as qk\n",
    "\n",
    "qc = qk.QuantumCircuit(2,1)\n",
    "qc.barrier()\n",
    "qc.cx(0,1)\n",
    "qc.measure(1,0)\n",
    "print(\"Measurement in the ZZ basis\")\n",
    "qc.draw(output=\"mpl\")"
   ]
  },
  {
   "cell_type": "markdown",
   "metadata": {},
   "source": [
    "Other two-qubit observables can be reducted to a measurement of $Z_1 Z_2$ by means of appropriate unitary transofmations (change of basis)."
   ]
  },
  {
   "cell_type": "markdown",
   "metadata": {},
   "source": [
    "#### Observable $X_1 X_2$\n",
    "\n",
    "Using $X=HZH$ and the CNOT for measuring $Z_1 Z_2$, we have that the measurement in the $X_1 X_2$ can be achieved using the following circuit:"
   ]
  },
  {
   "cell_type": "code",
   "execution_count": 2,
   "metadata": {},
   "outputs": [
    {
     "name": "stdout",
     "output_type": "stream",
     "text": [
      "Measurement in the XX basis\n"
     ]
    },
    {
     "data": {
      "image/png": "[encoded data removed]",
      "text/plain": [
       "<Figure size 381.432x204.68 with 1 Axes>"
      ]
     },
     "execution_count": 2,
     "metadata": {},
     "output_type": "execute_result"
    }
   ],
   "source": [
    "qc = qk.QuantumCircuit(2,1)\n",
    "qc.barrier()\n",
    "qc.h(0)\n",
    "qc.h(1)\n",
    "qc.cx(0,1)\n",
    "qc.measure(1,0)\n",
    "print(\"Measurement in the XX basis\")\n",
    "qc.draw(output=\"mpl\")"
   ]
  },
  {
   "cell_type": "markdown",
   "metadata": {},
   "source": [
    "#### Observable $Y_1 Y_2$\n",
    "\n",
    "Using $Y=(HS^\\dagger)^\\dagger Z(HS^\\dagger)$ and the CNOT for measuring $Z_1 Z_2$, we have that the measurement in the $X_1 X_2$ can be achieved using the following circuit:"
   ]
  },
  {
   "cell_type": "code",
   "execution_count": 3,
   "metadata": {},
   "outputs": [
    {
     "name": "stdout",
     "output_type": "stream",
     "text": [
      "Measurement in the YY basis\n"
     ]
    },
    {
     "data": {
      "image/png": "[encoded data removed]",
      "text/plain": [
       "<Figure size 441.632x204.68 with 1 Axes>"
      ]
     },
     "execution_count": 3,
     "metadata": {},
     "output_type": "execute_result"
    }
   ],
   "source": [
    "qc = qk.QuantumCircuit(2,1)\n",
    "qc.barrier()\n",
    "qc.sdg(0)\n",
    "qc.sdg(1)\n",
    "qc.h(0)\n",
    "qc.h(1)\n",
    "qc.cx(0,1)\n",
    "qc.measure(1,0)\n",
    "print(\"Measurement in the YY basis\")\n",
    "qc.draw(output=\"mpl\")"
   ]
  },
  {
   "cell_type": "markdown",
   "metadata": {},
   "source": [
    "## VQE"
   ]
  },
  {
   "cell_type": "markdown",
   "metadata": {},
   "source": [
    "We now proceed implementing the VQE architecure, which works as follows:\n",
    "* choose an ansatz for a trial state $|\\psi(\\theta)\\rangle$, parametrized by the parameter $\\theta$\n",
    "* use three different quantum circuits to estimate the mean values $\\langle X_1 X_2 \\rangle_\\theta$, $\\langle Y_1 Y_2 \\rangle_\\theta$ and $\\langle Z_1 Z_2 \\rangle_\\theta$, where the subscript indicate the dependece on $\\theta$. \n",
    "* compute the energy $E(\\theta)=\\langle \\mathcal{H} \\rangle_\\theta$\n",
    "* change $\\theta$ in order to reach a lower energy\n",
    "\n",
    "As suggested, we use the ansatz $|\\psi(\\theta)\\rangle = [(RX(\\theta)_1\\otimes \\mathbb{1}_2) \\ \\text{CNOT}\\ (H_1\\otimes \\mathbb{1}_2)]|00\\rangle$.\n",
    "\n",
    "The quantum circuits are built with **Qiskit**."
   ]
  },
  {
   "cell_type": "markdown",
   "metadata": {},
   "source": [
    "###### Importation of packages"
   ]
  },
  {
   "cell_type": "code",
   "execution_count": 4,
   "metadata": {},
   "outputs": [],
   "source": [
    "from qiskit import Aer\n",
    "import numpy as np\n",
    "from scipy.optimize import minimize_scalar, minimize\n",
    "from numpy import pi\n",
    "\n",
    "sim_bknd = qk.Aer.get_backend('qasm_simulator')"
   ]
  },
  {
   "cell_type": "markdown",
   "metadata": {},
   "source": [
    "###### Functions declaration"
   ]
  },
  {
   "cell_type": "code",
   "execution_count": 5,
   "metadata": {},
   "outputs": [],
   "source": [
    "def ansatz(qc, qr, theta):\n",
    "    \"\"\"\n",
    "    Builds the trial state using the ansatz: (RX I) CX (H I)|00>\n",
    "    \n",
    "    Arguments\n",
    "    -----------\n",
    "    qc: is a QuantumCircuit object from Qiskit\n",
    "    qr: is a QuantumRegister object used in the quantum circuit qc\n",
    "    theta (real): is the parameter parametrizing the trial state\n",
    "    \n",
    "    Return\n",
    "    ---------\n",
    "    qc: returns the input quantum circuit added with the gates creating the trial state\n",
    "    \n",
    "    \"\"\"\n",
    "    \n",
    "    qc.h(qr[0])\n",
    "    qc.cx(qr[0],qr[1])\n",
    "    qc.rx(theta, qr[0])\n",
    "    \n",
    "    return qc\n",
    "\n",
    "def measurements(qc, qr, cr, op):\n",
    "    \"\"\"\n",
    "    Implements the quantum measurements in different basis: XX, YY and ZZ.\n",
    "    \n",
    "    Arguments\n",
    "    -----------\n",
    "    qc: is a QuantumCircuit object from Qiskit\n",
    "    qr: is a QuantumRegister object used in the quantum circuit qc\n",
    "    cr: is a ClassicalRegister object used in the quantum circuit qc\n",
    "    op (str): is a string with possible values: XX, YY and ZZ.\n",
    "    \n",
    "    \n",
    "    Return\n",
    "    ---------\n",
    "    qc: returns the input quantum circuit added with the appropriate gates to measure in the selected basis.\n",
    "    \n",
    "    \"\"\"\n",
    "    \n",
    "    if op == \"XX\":\n",
    "        # Change of basis, since X = HZH\n",
    "        qc.h(qr[0])\n",
    "        qc.h(qr[1])\n",
    "        \n",
    "        # CNOT used to measure ZZ operator\n",
    "        qc.cx(qr[0],qr[1])\n",
    "        \n",
    "        # Measurement of qubit 1 on classical register 0\n",
    "        qc.measure(qr[1],cr[0])\n",
    "        \n",
    "    elif op == \"YY\":\n",
    "        # Change of basis, since Y = (HS†)Z(HS†)\n",
    "        qc.sdg(qr[0])\n",
    "        qc.sdg(qr[1])\n",
    "        qc.h(qr[0])\n",
    "        qc.h(qr[1])\n",
    "        \n",
    "        # CNOT used to measure ZZ operator\n",
    "        qc.cx(qr[0],qr[1])\n",
    "        \n",
    "        # Measurement of qubit 1 on classical register 0\n",
    "        qc.measure(qr[1],cr[0])\n",
    "        \n",
    "    elif op == \"ZZ\":\n",
    "        # CNOT used to measure ZZ operator\n",
    "        qc.cx(qr[0],qr[1])\n",
    "        \n",
    "        # Measurement of qubit 1 on classical register 0\n",
    "        qc.measure(qr[1],cr[0])\n",
    "    \n",
    "    else:\n",
    "        print(f\"WARNING: Measurement on the {op} basis not supported\")\n",
    "        return \n",
    "        \n",
    "    return qc\n",
    "\n",
    "def hamiltonian(params):\n",
    "    \"\"\"\n",
    "    Evaulates the Energy of the trial state using the mean values of the operators XX, YY and ZZ.\n",
    "    \n",
    "    Arguments\n",
    "    -----------\n",
    "    params (dict): is an dictionary containing the mean values form the measurements of the operators XX, YY, ZZ;\n",
    "    \n",
    "    Return\n",
    "    ---------\n",
    "    en (real): energy of the system\n",
    "    \n",
    "    \"\"\"\n",
    "    # H = 1/2 * (Id + ZZ - XX - YY)\n",
    "    en = (1 + params['ZZ'] - params['XX'] - params['YY']) / 2\n",
    "    return en\n",
    "\n",
    "def vqe_step(theta, verbose = True):\n",
    "    \"\"\"\n",
    "    Executes the VQE algorithm. \n",
    "    Creates and executes three quantum circuits (one for each of the observables XX, YY and ZZ), then evaluates the energy.\n",
    "    \n",
    "    Arguments\n",
    "    -----------\n",
    "    theta (real): is the parameter parametrizing the trial state\n",
    "    \n",
    "    Return\n",
    "    --------\n",
    "    energy (real): the energy of the system\n",
    "    qc_list (dict): a dictionary containing the three quantum circuits for the observables XX, YY and ZZ\n",
    "    \n",
    "    \"\"\"\n",
    "    # Number of executions for each quantum circuit\n",
    "    shots=8192\n",
    "    \n",
    "    vqe_res = dict()\n",
    "    qc_list = dict()\n",
    "    \n",
    "    for op in [\"XX\", \"YY\", \"ZZ\"]:\n",
    "        qr = qk.QuantumRegister(2, \"qr\")\n",
    "        cr = qk.ClassicalRegister(1, \"cr\")\n",
    "        qc = qk.QuantumCircuit(qr, cr)\n",
    "\n",
    "        # Implementation of the ansatz\n",
    "        qc = ansatz(qc, qr, theta)\n",
    "\n",
    "        # Just for plotting purposes\n",
    "        qc.barrier()\n",
    "\n",
    "        # Measurements in the appropriate basis (XX, YY, ZZ) are implemented\n",
    "        qc = measurements(qc, qr, cr, op)\n",
    "                \n",
    "        # Get the measurements results\n",
    "        counts = qk.execute(qc, sim_bknd, shots=shots).result().get_counts()\n",
    "\n",
    "        # Check the results, and evaluate the mean value dividing by the number of shots\n",
    "        if len(counts) == 1: \n",
    "            try:\n",
    "                counts['0']\n",
    "                mean_val = 1\n",
    "            except:\n",
    "                mean_val = -1\n",
    "        else:\n",
    "            # Evaluates the mean value of Z operator, as the difference in the number of \n",
    "            # 0s and 1s in the measurement outcomes\n",
    "            mean_val = (counts['0']-counts['1'])/shots\n",
    "            \n",
    "        vqe_res[op] = mean_val\n",
    "        qc_list[op] = qc\n",
    "        \n",
    "    energy = hamiltonian(vqe_res)\n",
    "    \n",
    "    if verbose: \n",
    "        print(\"Mean values from measurement results:\\n\", vqe_res) \n",
    "        print(f\"\\n{'Theta':<10} {'Energy':<10} {'<XX>':<10} {'<YY>':<10} {'<ZZ>':<10}\")\n",
    "        print(f\"{theta:<10f} {energy:<10f} {vqe_res['XX']:<10f} {vqe_res['YY']:<10f} {vqe_res['ZZ']:<10f}\")\n",
    "    \n",
    "        return energy, qc_list\n",
    "    \n",
    "    else: \n",
    "        return energy"
   ]
  },
  {
   "cell_type": "markdown",
   "metadata": {},
   "source": [
    "Let's try if it all works properly:"
   ]
  },
  {
   "cell_type": "code",
   "execution_count": 6,
   "metadata": {
    "scrolled": true
   },
   "outputs": [
    {
     "name": "stdout",
     "output_type": "stream",
     "text": [
      "Mean values from measurement results:\n",
      " {'XX': 1, 'YY': -0.980224609375, 'ZZ': 0.980224609375}\n",
      "\n",
      "Theta      Energy     <XX>       <YY>       <ZZ>      \n",
      "0.200000   0.980225   1.000000   -0.980225  0.980225  \n",
      "\n",
      "Quantum circuit for the measurement of YY\n"
     ]
    },
    {
     "data": {
      "image/png": "[encoded data removed]",
      "text/plain": [
       "<Figure size 630.886x204.68 with 1 Axes>"
      ]
     },
     "execution_count": 6,
     "metadata": {},
     "output_type": "execute_result"
    }
   ],
   "source": [
    "# Set the value of theta\n",
    "theta = 0.2\n",
    "\n",
    "# Run the VQE step to evaluate the energy (eigenvalue of the Hamiltonian) of the state with given theta\n",
    "energy, qc_list = vqe_step(theta)\n",
    "\n",
    "# Plot the circuit used for the measurement of YY\n",
    "op = 'YY'\n",
    "print(f\"\\nQuantum circuit for the measurement of {op}\")\n",
    "qc_list[op].draw(output=\"mpl\")"
   ]
  },
  {
   "cell_type": "markdown",
   "metadata": {},
   "source": [
    "We see that for $\\theta=0.2$, the energy $E(0.2)=\\langle\\mathcal{H}\\rangle_{0.2} \\sim 0.98$. Our aim is to find a value for the parameter that yields the lowest possible energy, and that is the desired lowest eigenvalue for the Task.  \n",
    "The minimization procedure can be done by hand, or by setting up an optimizator. \n",
    "\n",
    "##### Using an optimizator"
   ]
  },
  {
   "cell_type": "code",
   "execution_count": 7,
   "metadata": {
    "scrolled": true
   },
   "outputs": [
    {
     "data": {
      "text/plain": [
       "     fun: -1.0\n",
       " message: 'Solution found.'\n",
       "    nfev: 27\n",
       "  status: 0\n",
       " success: True\n",
       "       x: 3.141586540251999"
      ]
     },
     "execution_count": 7,
     "metadata": {},
     "output_type": "execute_result"
    }
   ],
   "source": [
    "minimize_scalar(vqe_step, args=(False), bounds = (0, pi), method = \"bounded\")"
   ]
  },
  {
   "cell_type": "markdown",
   "metadata": {},
   "source": [
    "##### Conclusion\n",
    "We see that the optimizator succeds in finding a solution. In particular, the optimal value seems to be $\\theta \\sim \\pi$, and its energy is close to unity. \n",
    "We can then check this result directly feeding $\\theta = \\pi$ to the `vqe_step` function:"
   ]
  },
  {
   "cell_type": "code",
   "execution_count": 8,
   "metadata": {
    "scrolled": true
   },
   "outputs": [
    {
     "name": "stdout",
     "output_type": "stream",
     "text": [
      "Mean values from measurement results:\n",
      " {'XX': 1, 'YY': 1, 'ZZ': -1}\n",
      "\n",
      "Theta      Energy     <XX>       <YY>       <ZZ>      \n",
      "3.141593   -1.000000  1.000000   1.000000   -1.000000 \n"
     ]
    }
   ],
   "source": [
    "lowest, _ = vqe_step(pi)"
   ]
  },
  {
   "cell_type": "markdown",
   "metadata": {},
   "source": [
    "And we can actually see that our desired result is indeed given by:\n",
    "\n",
    "$$\n",
    "\\langle \\mathcal{H} \\rangle_{\\theta = \\pi} = \\frac{1}{2}(1 + \\langle Z Z\\rangle)-\\frac{1}{2}(\\langle X X\\rangle+\\langle Y Y\\rangle) \\\\\n",
    " = -1\n",
    "$$  \n",
    "\n",
    "with $\\langle XX \\rangle = 1$, $\\langle YY \\rangle = 1$, $\\langle ZZ \\rangle = -1$.  \n",
    "\n",
    "**Thus, we found the solution to the Task, that is the lowest eigenvalue of $\\mathcal{H}$ (formerly $U$), which amounts to $-1$.**"
   ]
  },
  {
   "cell_type": "markdown",
   "metadata": {},
   "source": [
    "###### Final (classical) check\n",
    "As a final step, we can check the result of our calculation with Scipy's eigensolver."
   ]
  },
  {
   "cell_type": "code",
   "execution_count": 9,
   "metadata": {},
   "outputs": [
    {
     "name": "stdout",
     "output_type": "stream",
     "text": [
      "Desired Hamiltionian H = \n",
      " [[ 1.+0.j  0.+0.j  0.+0.j  0.+0.j]\n",
      " [ 0.+0.j  0.+0.j -1.+0.j  0.+0.j]\n",
      " [ 0.+0.j -1.+0.j  0.+0.j  0.+0.j]\n",
      " [ 0.+0.j  0.+0.j  0.+0.j  1.+0.j]]\n"
     ]
    }
   ],
   "source": [
    "# Definition of one qubit Pauli matrices\n",
    "I = np.array([[1,0],[0,1]])\n",
    "X = np.array([[0,1],[1,0]])\n",
    "Y = np.array([[0,-1j],[1j,0]])\n",
    "Z = np.array([[1,0],[0,-1]])\n",
    "\n",
    "# Evaluation of two qubit Pauli matrices\n",
    "II = np.kron(I,I)\n",
    "XX = np.kron(X,X)\n",
    "YY = np.kron(Y,Y)\n",
    "ZZ = np.kron(Z,Z)\n",
    "\n",
    "# Calculation of the Hamiltonian\n",
    "H = (1/2) * (II+ZZ) - (1/2) * (XX+YY)\n",
    "\n",
    "print(\"Desired Hamiltionian H = \\n\", H)"
   ]
  },
  {
   "cell_type": "markdown",
   "metadata": {},
   "source": [
    "Which is the same as $U$. Now we proceed calculating the eigenvalues:"
   ]
  },
  {
   "cell_type": "code",
   "execution_count": 10,
   "metadata": {},
   "outputs": [
    {
     "name": "stdout",
     "output_type": "stream",
     "text": [
      "Eigenvalues: [ 1.+0.j -1.+0.j  1.+0.j  1.+0.j]\n"
     ]
    }
   ],
   "source": [
    "import scipy\n",
    "\n",
    "# Calculate eigenvalues and eigenvectors of H\n",
    "eigenvalues, eigenvectors = scipy.linalg.eig(H)\n",
    "print(\"Eigenvalues:\", eigenvalues)"
   ]
  },
  {
   "cell_type": "markdown",
   "metadata": {},
   "source": [
    "We see that $-1$ is actually the lowest eigenvalue, as we found with VQE."
   ]
  }
 ],
 "metadata": {
  "kernelspec": {
   "display_name": "Python 3",
   "language": "python",
   "name": "python3"
  },
  "language_info": {
   "codemirror_mode": {
    "name": "ipython",
    "version": 3
   },
   "file_extension": ".py",
   "mimetype": "text/x-python",
   "name": "python",
   "nbconvert_exporter": "python",
   "pygments_lexer": "ipython3",
   "version": "3.7.3"
  }
 },
 "nbformat": 4,
 "nbformat_minor": 4
}
